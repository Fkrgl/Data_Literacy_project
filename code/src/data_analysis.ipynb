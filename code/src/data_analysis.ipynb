{
 "cells": [
  {
   "cell_type": "code",
   "execution_count": 1,
   "metadata": {},
   "outputs": [],
   "source": [
    "import pandas as pd\n",
    "import numpy as np\n",
    "from sklearn.preprocessing import StandardScaler\n",
    "from sklearn.linear_model import LinearRegression\n",
    "from sklearn.model_selection import train_test_split, KFold, cross_val_score\n",
    "from sklearn.metrics import mean_squared_error\n",
    "from sklearn.metrics import make_scorer\n",
    "import spotipy\n",
    "\n",
    "\n",
    "from sklearn.svm import SVC\n",
    "from sklearn.model_selection import GridSearchCV, cross_val_score, KFold\n",
    "from sklearn.metrics import ConfusionMatrixDisplay, confusion_matrix\n",
    "\n",
    "\n",
    "from matplotlib import pyplot as plt"
   ]
  },
  {
   "cell_type": "code",
   "execution_count": 12,
   "metadata": {},
   "outputs": [],
   "source": [
    "#read in data\n",
    "data = pd.read_csv('../dat/charts_data.csv')\n",
    "data_no_duplicates = pd.read_csv('../dat/charts_data_no_duplicates.csv')"
   ]
  },
  {
   "cell_type": "code",
   "execution_count": 5,
   "metadata": {},
   "outputs": [],
   "source": [
    "# scaling data\n",
    "def pre_process_data(data):\n",
    "    data.drop_duplicates(subset=['track_id'], keep=False, inplace=True)\n",
    "    metadata = ['artist', 'album', 'track_name', 'track_id', 'country', 'continent', 'popularity'] # features that are actually not required \n",
    "    feature_data = np.asarray(data.drop(metadata, axis = 1))\n",
    "    scaled_data = StandardScaler().fit_transform(feature_data)\n",
    "    return scaled_data"
   ]
  },
  {
   "cell_type": "code",
   "execution_count": 13,
   "metadata": {},
   "outputs": [],
   "source": [
    "scaled_data = pre_process_data(data)\n",
    "scaled_data_no_duplicates = pre_process_data(data_no_duplicates)"
   ]
  },
  {
   "cell_type": "markdown",
   "metadata": {},
   "source": [
    "### Regression with chart data"
   ]
  },
  {
   "cell_type": "code",
   "execution_count": 14,
   "metadata": {},
   "outputs": [],
   "source": [
    "def get_root_mean_squared_error(predictions, labels):\n",
    "    rsme = 0\n",
    "    for pred, label in zip(predictions, labels):\n",
    "        rsme += (label - pred)**2\n",
    "    return np.sqrt(1/len(predictions) * rsme)"
   ]
  },
  {
   "cell_type": "code",
   "execution_count": 15,
   "metadata": {},
   "outputs": [],
   "source": [
    "X = scaled_data\n",
    "y = data['popularity'].values"
   ]
  },
  {
   "cell_type": "code",
   "execution_count": 16,
   "metadata": {},
   "outputs": [],
   "source": [
    "########################################## normal regression #######################################################\n",
    "\n",
    "def print_model_performance(reg, X_train, X_test, y_train, y_test):\n",
    "    predictions = reg.predict(X_train)\n",
    "    print(f'prediction: {list(predictions[:5])}')\n",
    "    print(f'y: {y_train[:5]}')\n",
    "    rsme_normal = np.sqrt(mean_squared_error(y_train, predictions))\n",
    "    print(f'train error: {rsme_normal}')\n",
    "\n",
    "    # cross validation\n",
    "    model = LinearRegression()\n",
    "    scorer = make_scorer(get_root_mean_squared_error)\n",
    "    cv = KFold(n_splits=5, shuffle=True)\n",
    "    scores = cross_val_score(model, X_train, y_train, cv=cv, scoring=scorer)\n",
    "    print(f'mean cross validation error: {scores.mean()}')\n",
    "\n",
    "    # get test error\n",
    "    predictions_training = reg.predict(X_test)\n",
    "    print(f'test error: {np.sqrt(mean_squared_error(y_test, predictions_training))}')"
   ]
  },
  {
   "cell_type": "code",
   "execution_count": 17,
   "metadata": {},
   "outputs": [
    {
     "data": {
      "image/png": "[encoded data removed]",
      "text/plain": [
       "<Figure size 432x288 with 1 Axes>"
      ]
     },
     "metadata": {
      "needs_background": "light"
     },
     "output_type": "display_data"
    }
   ],
   "source": [
    "# look at popularity distribution\n",
    "plt.hist(data['popularity']);"
   ]
  },
  {
   "cell_type": "code",
   "execution_count": 18,
   "metadata": {},
   "outputs": [],
   "source": [
    "# split data into test and trainings set\n",
    "X_train, X_test, y_train, y_test = train_test_split(scaled_data, y, test_size = 0.33, random_state = 42)"
   ]
  },
  {
   "cell_type": "code",
   "execution_count": 19,
   "metadata": {},
   "outputs": [],
   "source": [
    "# plot residuals\n",
    "def plot_residuals(X_train, y_train, reg):\n",
    "    prediction = reg.predict(X_train)\n",
    "    res = y_train - prediction\n",
    "    fig = plt.figure(figsize=(13,7))\n",
    "    plt.subplot(221)\n",
    "    plt.title('residuals against prediction')\n",
    "    plt.plot(prediction, res, 'b.');\n",
    "    plt.subplot(222)\n",
    "    plt.hist(res, bins=50)\n",
    "    plt.title('residual frequency')\n",
    "    plt.subplot(223)\n",
    "    plt.title('predictions')\n",
    "    plt.hist(prediction, bins=50)\n",
    "    plt.subplot(224)\n",
    "    plt.title('y')\n",
    "    plt.hist(y_train, bins=50)"
   ]
  },
  {
   "cell_type": "markdown",
   "metadata": {},
   "source": [
    "\n",
    "**normal data set**"
   ]
  },
  {
   "cell_type": "code",
   "execution_count": 20,
   "metadata": {},
   "outputs": [
    {
     "name": "stdout",
     "output_type": "stream",
     "text": [
      "prediction: [68.24117877301939, 68.0894125352786, 63.60917743182646, 68.94213025090617, 66.86070232158612]\n",
      "y: [57. 68. 69. 59. 69.]\n",
      "train error: 10.216975886435423\n",
      "mean cross validation error: 10.407356679259518\n",
      "test error: 10.25325615705076\n"
     ]
    }
   ],
   "source": [
    "# perform linear regerssion and evaluate\n",
    "reg = LinearRegression().fit(X_train, y_train)\n",
    "print_model_performance(reg, X_train, X_test, y_train, y_test)"
   ]
  },
  {
   "cell_type": "code",
   "execution_count": 21,
   "metadata": {
    "scrolled": false
   },
   "outputs": [
    {
     "data": {
      "image/png": "[encoded data removed]",
      "text/plain": [
       "<Figure size 936x504 with 4 Axes>"
      ]
     },
     "metadata": {
      "needs_background": "light"
     },
     "output_type": "display_data"
    }
   ],
   "source": [
    "plot_residuals(X_train, y_train, reg)"
   ]
  },
  {
   "cell_type": "markdown",
   "metadata": {},
   "source": [
    "**data with no duplictes**"
   ]
  },
  {
   "cell_type": "code",
   "execution_count": 23,
   "metadata": {},
   "outputs": [],
   "source": [
    "# split data into test and trainings set\n",
    "X_train, X_test, y_train, y_test = train_test_split(scaled_data_no_duplicates, y, test_size = 0.33, random_state = 42)"
   ]
  },
  {
   "cell_type": "code",
   "execution_count": 24,
   "metadata": {},
   "outputs": [
    {
     "name": "stdout",
     "output_type": "stream",
     "text": [
      "prediction: [68.24117877301939, 68.0894125352786, 63.60917743182646, 68.94213025090617, 66.86070232158612]\n",
      "y: [57. 68. 69. 59. 69.]\n",
      "train error: 10.216975886435423\n",
      "mean cross validation error: 10.328963892004568\n",
      "test error: 10.25325615705076\n"
     ]
    }
   ],
   "source": [
    "# perform linear regerssion and evaluate\n",
    "reg = LinearRegression().fit(X_train, y_train)\n",
    "print_model_performance(reg, X_train, X_test, y_train, y_test)"
   ]
  },
  {
   "cell_type": "markdown",
   "metadata": {},
   "source": [
    "With linear regression, even the trainings error is high."
   ]
  },
  {
   "cell_type": "markdown",
   "metadata": {},
   "source": [
    "### Evaluate predictions with residual plot"
   ]
  },
  {
   "cell_type": "markdown",
   "metadata": {},
   "source": [
    "does not look proissing, lots of outliers"
   ]
  },
  {
   "cell_type": "markdown",
   "metadata": {},
   "source": [
    "#### Support vector regression"
   ]
  },
  {
   "cell_type": "code",
   "execution_count": 25,
   "metadata": {},
   "outputs": [
    {
     "name": "stdout",
     "output_type": "stream",
     "text": [
      "prediction: [65.40584580825754, 68.08946417441365, 61.97414074005022, 69.00932494189514, 68.22299279371195]\n",
      "y: [57. 68. 69. 59. 69.]\n",
      "train error: 10.038044688235189\n",
      "mean cross validation error: 10.40486732570374\n",
      "test error: 10.3260376012865\n"
     ]
    }
   ],
   "source": [
    "from sklearn.svm import SVR\n",
    "\n",
    "regressor = SVR(kernel='rbf')\n",
    "regressor.fit(X_train, y_train)\n",
    "print_model_performance(regressor, X_train, X_test, y_train, y_test)"
   ]
  },
  {
   "cell_type": "code",
   "execution_count": 26,
   "metadata": {},
   "outputs": [],
   "source": [
    "regressor = SVR()\n",
    "scorer = make_scorer(get_root_mean_squared_error)"
   ]
  },
  {
   "cell_type": "code",
   "execution_count": 27,
   "metadata": {},
   "outputs": [
    {
     "name": "stdout",
     "output_type": "stream",
     "text": [
      "Fitting 5 folds for each of 3 candidates, totalling 15 fits\n",
      "[CV 1/5] END ....................kernel=linear;, score=10.691 total time=   0.0s\n",
      "[CV 2/5] END ....................kernel=linear;, score=10.315 total time=   0.0s\n",
      "[CV 3/5] END ....................kernel=linear;, score=10.461 total time=   0.0s\n",
      "[CV 4/5] END ....................kernel=linear;, score=10.452 total time=   0.0s\n",
      "[CV 5/5] END ....................kernel=linear;, score=10.391 total time=   0.0s\n",
      "[CV 1/5] END .......................kernel=rbf;, score=10.531 total time=   0.0s\n",
      "[CV 2/5] END .......................kernel=rbf;, score=10.382 total time=   0.0s\n",
      "[CV 3/5] END .......................kernel=rbf;, score=10.364 total time=   0.0s\n",
      "[CV 4/5] END .......................kernel=rbf;, score=10.384 total time=   0.0s\n",
      "[CV 5/5] END .......................kernel=rbf;, score=10.459 total time=   0.0s\n",
      "[CV 1/5] END .........................kernel=ploy;, score=nan total time=   0.0s\n",
      "[CV 2/5] END .........................kernel=ploy;, score=nan total time=   0.0s\n",
      "[CV 3/5] END .........................kernel=ploy;, score=nan total time=   0.0s\n",
      "[CV 4/5] END .........................kernel=ploy;, score=nan total time=   0.0s\n",
      "[CV 5/5] END .........................kernel=ploy;, score=nan total time=   0.0s\n"
     ]
    },
    {
     "name": "stderr",
     "output_type": "stream",
     "text": [
      "/opt/miniconda3/lib/python3.8/site-packages/sklearn/model_selection/_validation.py:372: FitFailedWarning: \n",
      "5 fits failed out of a total of 15.\n",
      "The score on these train-test partitions for these parameters will be set to nan.\n",
      "If these failures are not expected, you can try to debug them by setting error_score='raise'.\n",
      "\n",
      "Below are more details about the failures:\n",
      "--------------------------------------------------------------------------------\n",
      "5 fits failed with the following error:\n",
      "Traceback (most recent call last):\n",
      "  File \"/opt/miniconda3/lib/python3.8/site-packages/sklearn/model_selection/_validation.py\", line 680, in _fit_and_score\n",
      "    estimator.fit(X_train, y_train, **fit_params)\n",
      "  File \"/opt/miniconda3/lib/python3.8/site-packages/sklearn/svm/_base.py\", line 255, in fit\n",
      "    fit(X, y, sample_weight, solver_type, kernel, random_seed=seed)\n",
      "  File \"/opt/miniconda3/lib/python3.8/site-packages/sklearn/svm/_base.py\", line 315, in _dense_fit\n",
      "    ) = libsvm.fit(\n",
      "  File \"sklearn/svm/_libsvm.pyx\", line 173, in sklearn.svm._libsvm.fit\n",
      "ValueError: 'ploy' is not in list\n",
      "\n",
      "  warnings.warn(some_fits_failed_message, FitFailedWarning)\n",
      "/opt/miniconda3/lib/python3.8/site-packages/sklearn/model_selection/_search.py:969: UserWarning: One or more of the test scores are non-finite: [10.46196486 10.42405437         nan]\n",
      "  warnings.warn(\n"
     ]
    },
    {
     "data": {
      "text/plain": [
       "GridSearchCV(cv=KFold(n_splits=5, random_state=None, shuffle=True),\n",
       "             estimator=SVR(), param_grid={'kernel': ['linear', 'rbf', 'ploy']},\n",
       "             scoring=make_scorer(get_root_mean_squared_error), verbose=5)"
      ]
     },
     "execution_count": 27,
     "metadata": {},
     "output_type": "execute_result"
    }
   ],
   "source": [
    "p_grid = {'kernel': ['linear', 'rbf', 'ploy']}\n",
    "outer_cv = KFold(n_splits=5, shuffle=True)\n",
    "\n",
    "# Non_nested parameter search and scoring\n",
    "clf = GridSearchCV(estimator=regressor, param_grid=p_grid, cv=outer_cv, scoring=scorer, verbose=5)\n",
    "clf.fit(X_train, y_train)"
   ]
  },
  {
   "cell_type": "code",
   "execution_count": 28,
   "metadata": {},
   "outputs": [
    {
     "data": {
      "text/plain": [
       "10.461964856430015"
      ]
     },
     "execution_count": 28,
     "metadata": {},
     "output_type": "execute_result"
    }
   ],
   "source": [
    "clf.best_score_"
   ]
  },
  {
   "cell_type": "markdown",
   "metadata": {},
   "source": [
    "### load keggel data "
   ]
  },
  {
   "cell_type": "markdown",
   "metadata": {},
   "source": [
    "keggel data set is used to get more training data"
   ]
  },
  {
   "cell_type": "code",
   "execution_count": 30,
   "metadata": {},
   "outputs": [],
   "source": [
    "keggel_spotify = pd.read_csv('../dat/kaggle_data.csv', header=0)"
   ]
  },
  {
   "cell_type": "code",
   "execution_count": 31,
   "metadata": {},
   "outputs": [
    {
     "data": {
      "text/html": [
       "<div>\n",
       "<style scoped>\n",
       "    .dataframe tbody tr th:only-of-type {\n",
       "        vertical-align: middle;\n",
       "    }\n",
       "\n",
       "    .dataframe tbody tr th {\n",
       "        vertical-align: top;\n",
       "    }\n",
       "\n",
       "    .dataframe thead th {\n",
       "        text-align: right;\n",
       "    }\n",
       "</style>\n",
       "<table border=\"1\" class=\"dataframe\">\n",
       "  <thead>\n",
       "    <tr style=\"text-align: right;\">\n",
       "      <th></th>\n",
       "      <th>id</th>\n",
       "      <th>name</th>\n",
       "      <th>album</th>\n",
       "      <th>album_id</th>\n",
       "      <th>artists</th>\n",
       "      <th>artist_ids</th>\n",
       "      <th>track_number</th>\n",
       "      <th>disc_number</th>\n",
       "      <th>explicit</th>\n",
       "      <th>danceability</th>\n",
       "      <th>...</th>\n",
       "      <th>speechiness</th>\n",
       "      <th>acousticness</th>\n",
       "      <th>instrumentalness</th>\n",
       "      <th>liveness</th>\n",
       "      <th>valence</th>\n",
       "      <th>tempo</th>\n",
       "      <th>duration_ms</th>\n",
       "      <th>time_signature</th>\n",
       "      <th>year</th>\n",
       "      <th>release_date</th>\n",
       "    </tr>\n",
       "  </thead>\n",
       "  <tbody>\n",
       "    <tr>\n",
       "      <th>22</th>\n",
       "      <td>2SwgVZn9S4NGueAaEAryf1</td>\n",
       "      <td>Man on a Mission</td>\n",
       "      <td>Do It for Love</td>\n",
       "      <td>4evw6IBex3N8x1oA2axMTH</td>\n",
       "      <td>['Daryl Hall &amp; John Oates']</td>\n",
       "      <td>['77tT1kLj6mCWtFNqiOmP9H']</td>\n",
       "      <td>1</td>\n",
       "      <td>1</td>\n",
       "      <td>False</td>\n",
       "      <td>0.787</td>\n",
       "      <td>...</td>\n",
       "      <td>0.0315</td>\n",
       "      <td>0.29200</td>\n",
       "      <td>0.000025</td>\n",
       "      <td>0.1010</td>\n",
       "      <td>0.962</td>\n",
       "      <td>119.946</td>\n",
       "      <td>224307</td>\n",
       "      <td>4.0</td>\n",
       "      <td>2018</td>\n",
       "      <td>2018-04-10</td>\n",
       "    </tr>\n",
       "    <tr>\n",
       "      <th>23</th>\n",
       "      <td>0QCQ1Isa0YPVyIbs6JwpO1</td>\n",
       "      <td>Do It for Love</td>\n",
       "      <td>Do It for Love</td>\n",
       "      <td>4evw6IBex3N8x1oA2axMTH</td>\n",
       "      <td>['Daryl Hall &amp; John Oates']</td>\n",
       "      <td>['77tT1kLj6mCWtFNqiOmP9H']</td>\n",
       "      <td>2</td>\n",
       "      <td>1</td>\n",
       "      <td>False</td>\n",
       "      <td>0.587</td>\n",
       "      <td>...</td>\n",
       "      <td>0.0586</td>\n",
       "      <td>0.10700</td>\n",
       "      <td>0.000000</td>\n",
       "      <td>0.0574</td>\n",
       "      <td>0.832</td>\n",
       "      <td>87.976</td>\n",
       "      <td>238000</td>\n",
       "      <td>4.0</td>\n",
       "      <td>2018</td>\n",
       "      <td>2018-04-10</td>\n",
       "    </tr>\n",
       "    <tr>\n",
       "      <th>24</th>\n",
       "      <td>3kIBEFhsZOeeKGebxRraOb</td>\n",
       "      <td>Someday We'll Know</td>\n",
       "      <td>Do It for Love</td>\n",
       "      <td>4evw6IBex3N8x1oA2axMTH</td>\n",
       "      <td>['Daryl Hall &amp; John Oates']</td>\n",
       "      <td>['77tT1kLj6mCWtFNqiOmP9H']</td>\n",
       "      <td>3</td>\n",
       "      <td>1</td>\n",
       "      <td>False</td>\n",
       "      <td>0.565</td>\n",
       "      <td>...</td>\n",
       "      <td>0.0308</td>\n",
       "      <td>0.02330</td>\n",
       "      <td>0.000010</td>\n",
       "      <td>0.0819</td>\n",
       "      <td>0.461</td>\n",
       "      <td>109.977</td>\n",
       "      <td>268013</td>\n",
       "      <td>4.0</td>\n",
       "      <td>2018</td>\n",
       "      <td>2018-04-10</td>\n",
       "    </tr>\n",
       "    <tr>\n",
       "      <th>25</th>\n",
       "      <td>5dNDRw6qjDcnbW3luRhElU</td>\n",
       "      <td>Forever for You</td>\n",
       "      <td>Do It for Love</td>\n",
       "      <td>4evw6IBex3N8x1oA2axMTH</td>\n",
       "      <td>['Daryl Hall &amp; John Oates']</td>\n",
       "      <td>['77tT1kLj6mCWtFNqiOmP9H']</td>\n",
       "      <td>4</td>\n",
       "      <td>1</td>\n",
       "      <td>False</td>\n",
       "      <td>0.651</td>\n",
       "      <td>...</td>\n",
       "      <td>0.0240</td>\n",
       "      <td>0.56200</td>\n",
       "      <td>0.000006</td>\n",
       "      <td>0.1860</td>\n",
       "      <td>0.370</td>\n",
       "      <td>97.030</td>\n",
       "      <td>277813</td>\n",
       "      <td>4.0</td>\n",
       "      <td>2018</td>\n",
       "      <td>2018-04-10</td>\n",
       "    </tr>\n",
       "    <tr>\n",
       "      <th>26</th>\n",
       "      <td>561UU4MvlsCenN1x7leYCh</td>\n",
       "      <td>Life's Too Short</td>\n",
       "      <td>Do It for Love</td>\n",
       "      <td>4evw6IBex3N8x1oA2axMTH</td>\n",
       "      <td>['Daryl Hall &amp; John Oates']</td>\n",
       "      <td>['77tT1kLj6mCWtFNqiOmP9H']</td>\n",
       "      <td>5</td>\n",
       "      <td>1</td>\n",
       "      <td>False</td>\n",
       "      <td>0.833</td>\n",
       "      <td>...</td>\n",
       "      <td>0.0347</td>\n",
       "      <td>0.07600</td>\n",
       "      <td>0.013600</td>\n",
       "      <td>0.0731</td>\n",
       "      <td>0.974</td>\n",
       "      <td>116.013</td>\n",
       "      <td>209960</td>\n",
       "      <td>4.0</td>\n",
       "      <td>2018</td>\n",
       "      <td>2018-04-10</td>\n",
       "    </tr>\n",
       "    <tr>\n",
       "      <th>...</th>\n",
       "      <td>...</td>\n",
       "      <td>...</td>\n",
       "      <td>...</td>\n",
       "      <td>...</td>\n",
       "      <td>...</td>\n",
       "      <td>...</td>\n",
       "      <td>...</td>\n",
       "      <td>...</td>\n",
       "      <td>...</td>\n",
       "      <td>...</td>\n",
       "      <td>...</td>\n",
       "      <td>...</td>\n",
       "      <td>...</td>\n",
       "      <td>...</td>\n",
       "      <td>...</td>\n",
       "      <td>...</td>\n",
       "      <td>...</td>\n",
       "      <td>...</td>\n",
       "      <td>...</td>\n",
       "      <td>...</td>\n",
       "      <td>...</td>\n",
       "    </tr>\n",
       "    <tr>\n",
       "      <th>1204020</th>\n",
       "      <td>0EsMifwUmMfJZxzoMPXJKZ</td>\n",
       "      <td>Gospel of Juke</td>\n",
       "      <td>Notch - EP</td>\n",
       "      <td>38O5Ys0W9PFS5K7dMb7yKb</td>\n",
       "      <td>['FVLCRVM']</td>\n",
       "      <td>['7AjItKsRnEYRSiBt2OxK1y']</td>\n",
       "      <td>2</td>\n",
       "      <td>1</td>\n",
       "      <td>False</td>\n",
       "      <td>0.264</td>\n",
       "      <td>...</td>\n",
       "      <td>0.0672</td>\n",
       "      <td>0.00935</td>\n",
       "      <td>0.002240</td>\n",
       "      <td>0.3370</td>\n",
       "      <td>0.415</td>\n",
       "      <td>159.586</td>\n",
       "      <td>276213</td>\n",
       "      <td>4.0</td>\n",
       "      <td>2014</td>\n",
       "      <td>2014-01-09</td>\n",
       "    </tr>\n",
       "    <tr>\n",
       "      <th>1204021</th>\n",
       "      <td>2WSc2TB1CSJgGE0PEzVeiu</td>\n",
       "      <td>Prism Visions</td>\n",
       "      <td>Notch - EP</td>\n",
       "      <td>38O5Ys0W9PFS5K7dMb7yKb</td>\n",
       "      <td>['FVLCRVM']</td>\n",
       "      <td>['7AjItKsRnEYRSiBt2OxK1y']</td>\n",
       "      <td>3</td>\n",
       "      <td>1</td>\n",
       "      <td>False</td>\n",
       "      <td>0.796</td>\n",
       "      <td>...</td>\n",
       "      <td>0.0883</td>\n",
       "      <td>0.10400</td>\n",
       "      <td>0.644000</td>\n",
       "      <td>0.0749</td>\n",
       "      <td>0.781</td>\n",
       "      <td>121.980</td>\n",
       "      <td>363179</td>\n",
       "      <td>4.0</td>\n",
       "      <td>2014</td>\n",
       "      <td>2014-01-09</td>\n",
       "    </tr>\n",
       "    <tr>\n",
       "      <th>1204022</th>\n",
       "      <td>6iProIgUe3ETpO6UT0v5Hg</td>\n",
       "      <td>Tokyo 360</td>\n",
       "      <td>Notch - EP</td>\n",
       "      <td>38O5Ys0W9PFS5K7dMb7yKb</td>\n",
       "      <td>['FVLCRVM']</td>\n",
       "      <td>['7AjItKsRnEYRSiBt2OxK1y']</td>\n",
       "      <td>4</td>\n",
       "      <td>1</td>\n",
       "      <td>False</td>\n",
       "      <td>0.785</td>\n",
       "      <td>...</td>\n",
       "      <td>0.0564</td>\n",
       "      <td>0.03040</td>\n",
       "      <td>0.918000</td>\n",
       "      <td>0.0664</td>\n",
       "      <td>0.467</td>\n",
       "      <td>121.996</td>\n",
       "      <td>385335</td>\n",
       "      <td>4.0</td>\n",
       "      <td>2014</td>\n",
       "      <td>2014-01-09</td>\n",
       "    </tr>\n",
       "    <tr>\n",
       "      <th>1204023</th>\n",
       "      <td>37B4SXC8uoBsUyKCWnhPfX</td>\n",
       "      <td>Yummy!</td>\n",
       "      <td>Notch - EP</td>\n",
       "      <td>38O5Ys0W9PFS5K7dMb7yKb</td>\n",
       "      <td>['FVLCRVM']</td>\n",
       "      <td>['7AjItKsRnEYRSiBt2OxK1y']</td>\n",
       "      <td>5</td>\n",
       "      <td>1</td>\n",
       "      <td>False</td>\n",
       "      <td>0.665</td>\n",
       "      <td>...</td>\n",
       "      <td>0.0409</td>\n",
       "      <td>0.00007</td>\n",
       "      <td>0.776000</td>\n",
       "      <td>0.1170</td>\n",
       "      <td>0.227</td>\n",
       "      <td>124.986</td>\n",
       "      <td>324455</td>\n",
       "      <td>4.0</td>\n",
       "      <td>2014</td>\n",
       "      <td>2014-01-09</td>\n",
       "    </tr>\n",
       "    <tr>\n",
       "      <th>1204024</th>\n",
       "      <td>3GgQmOxxLyRoAb4j86zOBX</td>\n",
       "      <td>That's The Way It Is</td>\n",
       "      <td>Notch - EP</td>\n",
       "      <td>38O5Ys0W9PFS5K7dMb7yKb</td>\n",
       "      <td>['FVLCRVM']</td>\n",
       "      <td>['7AjItKsRnEYRSiBt2OxK1y']</td>\n",
       "      <td>6</td>\n",
       "      <td>1</td>\n",
       "      <td>False</td>\n",
       "      <td>0.736</td>\n",
       "      <td>...</td>\n",
       "      <td>0.0539</td>\n",
       "      <td>0.01680</td>\n",
       "      <td>0.296000</td>\n",
       "      <td>0.2790</td>\n",
       "      <td>0.204</td>\n",
       "      <td>117.991</td>\n",
       "      <td>304982</td>\n",
       "      <td>4.0</td>\n",
       "      <td>2014</td>\n",
       "      <td>2014-01-09</td>\n",
       "    </tr>\n",
       "  </tbody>\n",
       "</table>\n",
       "<p>777085 rows × 24 columns</p>\n",
       "</div>"
      ],
      "text/plain": [
       "                             id                  name           album  \\\n",
       "22       2SwgVZn9S4NGueAaEAryf1      Man on a Mission  Do It for Love   \n",
       "23       0QCQ1Isa0YPVyIbs6JwpO1        Do It for Love  Do It for Love   \n",
       "24       3kIBEFhsZOeeKGebxRraOb    Someday We'll Know  Do It for Love   \n",
       "25       5dNDRw6qjDcnbW3luRhElU       Forever for You  Do It for Love   \n",
       "26       561UU4MvlsCenN1x7leYCh      Life's Too Short  Do It for Love   \n",
       "...                         ...                   ...             ...   \n",
       "1204020  0EsMifwUmMfJZxzoMPXJKZ        Gospel of Juke      Notch - EP   \n",
       "1204021  2WSc2TB1CSJgGE0PEzVeiu         Prism Visions      Notch - EP   \n",
       "1204022  6iProIgUe3ETpO6UT0v5Hg             Tokyo 360      Notch - EP   \n",
       "1204023  37B4SXC8uoBsUyKCWnhPfX                Yummy!      Notch - EP   \n",
       "1204024  3GgQmOxxLyRoAb4j86zOBX  That's The Way It Is      Notch - EP   \n",
       "\n",
       "                       album_id                      artists  \\\n",
       "22       4evw6IBex3N8x1oA2axMTH  ['Daryl Hall & John Oates']   \n",
       "23       4evw6IBex3N8x1oA2axMTH  ['Daryl Hall & John Oates']   \n",
       "24       4evw6IBex3N8x1oA2axMTH  ['Daryl Hall & John Oates']   \n",
       "25       4evw6IBex3N8x1oA2axMTH  ['Daryl Hall & John Oates']   \n",
       "26       4evw6IBex3N8x1oA2axMTH  ['Daryl Hall & John Oates']   \n",
       "...                         ...                          ...   \n",
       "1204020  38O5Ys0W9PFS5K7dMb7yKb                  ['FVLCRVM']   \n",
       "1204021  38O5Ys0W9PFS5K7dMb7yKb                  ['FVLCRVM']   \n",
       "1204022  38O5Ys0W9PFS5K7dMb7yKb                  ['FVLCRVM']   \n",
       "1204023  38O5Ys0W9PFS5K7dMb7yKb                  ['FVLCRVM']   \n",
       "1204024  38O5Ys0W9PFS5K7dMb7yKb                  ['FVLCRVM']   \n",
       "\n",
       "                         artist_ids  track_number  disc_number  explicit  \\\n",
       "22       ['77tT1kLj6mCWtFNqiOmP9H']             1            1     False   \n",
       "23       ['77tT1kLj6mCWtFNqiOmP9H']             2            1     False   \n",
       "24       ['77tT1kLj6mCWtFNqiOmP9H']             3            1     False   \n",
       "25       ['77tT1kLj6mCWtFNqiOmP9H']             4            1     False   \n",
       "26       ['77tT1kLj6mCWtFNqiOmP9H']             5            1     False   \n",
       "...                             ...           ...          ...       ...   \n",
       "1204020  ['7AjItKsRnEYRSiBt2OxK1y']             2            1     False   \n",
       "1204021  ['7AjItKsRnEYRSiBt2OxK1y']             3            1     False   \n",
       "1204022  ['7AjItKsRnEYRSiBt2OxK1y']             4            1     False   \n",
       "1204023  ['7AjItKsRnEYRSiBt2OxK1y']             5            1     False   \n",
       "1204024  ['7AjItKsRnEYRSiBt2OxK1y']             6            1     False   \n",
       "\n",
       "         danceability  ...  speechiness  acousticness  instrumentalness  \\\n",
       "22              0.787  ...       0.0315       0.29200          0.000025   \n",
       "23              0.587  ...       0.0586       0.10700          0.000000   \n",
       "24              0.565  ...       0.0308       0.02330          0.000010   \n",
       "25              0.651  ...       0.0240       0.56200          0.000006   \n",
       "26              0.833  ...       0.0347       0.07600          0.013600   \n",
       "...               ...  ...          ...           ...               ...   \n",
       "1204020         0.264  ...       0.0672       0.00935          0.002240   \n",
       "1204021         0.796  ...       0.0883       0.10400          0.644000   \n",
       "1204022         0.785  ...       0.0564       0.03040          0.918000   \n",
       "1204023         0.665  ...       0.0409       0.00007          0.776000   \n",
       "1204024         0.736  ...       0.0539       0.01680          0.296000   \n",
       "\n",
       "         liveness  valence    tempo  duration_ms  time_signature  year  \\\n",
       "22         0.1010    0.962  119.946       224307             4.0  2018   \n",
       "23         0.0574    0.832   87.976       238000             4.0  2018   \n",
       "24         0.0819    0.461  109.977       268013             4.0  2018   \n",
       "25         0.1860    0.370   97.030       277813             4.0  2018   \n",
       "26         0.0731    0.974  116.013       209960             4.0  2018   \n",
       "...           ...      ...      ...          ...             ...   ...   \n",
       "1204020    0.3370    0.415  159.586       276213             4.0  2014   \n",
       "1204021    0.0749    0.781  121.980       363179             4.0  2014   \n",
       "1204022    0.0664    0.467  121.996       385335             4.0  2014   \n",
       "1204023    0.1170    0.227  124.986       324455             4.0  2014   \n",
       "1204024    0.2790    0.204  117.991       304982             4.0  2014   \n",
       "\n",
       "         release_date  \n",
       "22         2018-04-10  \n",
       "23         2018-04-10  \n",
       "24         2018-04-10  \n",
       "25         2018-04-10  \n",
       "26         2018-04-10  \n",
       "...               ...  \n",
       "1204020    2014-01-09  \n",
       "1204021    2014-01-09  \n",
       "1204022    2014-01-09  \n",
       "1204023    2014-01-09  \n",
       "1204024    2014-01-09  \n",
       "\n",
       "[777085 rows x 24 columns]"
      ]
     },
     "execution_count": 31,
     "metadata": {},
     "output_type": "execute_result"
    }
   ],
   "source": [
    "keggel_spotify[keggel_spotify['year'] > 2005]"
   ]
  },
  {
   "cell_type": "code",
   "execution_count": 32,
   "metadata": {},
   "outputs": [],
   "source": [
    "cid = '020f2ed496864af6ab98a08846eac5da'\n",
    "secret = 'abd17ef2d04d4d3abd706ec03db71646'\n",
    "\n",
    "client_credentials_manager = spotipy.SpotifyClientCredentials(client_id=cid, client_secret=secret)\n",
    "sp = spotipy.Spotify(client_credentials_manager = client_credentials_manager)"
   ]
  },
  {
   "cell_type": "code",
   "execution_count": 33,
   "metadata": {},
   "outputs": [],
   "source": [
    "from tqdm import tqdm\n",
    "import random"
   ]
  },
  {
   "cell_type": "code",
   "execution_count": 34,
   "metadata": {},
   "outputs": [],
   "source": [
    "def get_popularity(keggel_spotify):\n",
    "    popularity = []\n",
    "    for idx in tqdm(keggel_spotify.id):\n",
    "        popularity.append((sp.track(idx)['popularity']))\n",
    "    keggel_spotify['popularity'] = popularity\n",
    "    return keggel_spotify"
   ]
  },
  {
   "cell_type": "code",
   "execution_count": 35,
   "metadata": {},
   "outputs": [],
   "source": [
    "random.seed(69)\n",
    "idx = np.arange(0,len(keggel_spotify))\n",
    "sample_idx = random.sample(list(idx), 1000)"
   ]
  },
  {
   "cell_type": "code",
   "execution_count": 36,
   "metadata": {},
   "outputs": [
    {
     "name": "stderr",
     "output_type": "stream",
     "text": [
      "100%|██████████| 1000/1000 [01:35<00:00, 10.47it/s]\n",
      "<ipython-input-34-2bac563e3cfb>:5: SettingWithCopyWarning: \n",
      "A value is trying to be set on a copy of a slice from a DataFrame.\n",
      "Try using .loc[row_indexer,col_indexer] = value instead\n",
      "\n",
      "See the caveats in the documentation: https://pandas.pydata.org/pandas-docs/stable/user_guide/indexing.html#returning-a-view-versus-a-copy\n",
      "  keggel_spotify['popularity'] = popularity\n"
     ]
    }
   ],
   "source": [
    "sample_keggel = keggel_spotify.iloc[sample_idx]\n",
    "sample_keggel = get_popularity(sample_keggel)"
   ]
  },
  {
   "cell_type": "code",
   "execution_count": 37,
   "metadata": {},
   "outputs": [
    {
     "data": {
      "image/png": "[encoded data removed]",
      "text/plain": [
       "<Figure size 432x288 with 1 Axes>"
      ]
     },
     "metadata": {
      "needs_background": "light"
     },
     "output_type": "display_data"
    }
   ],
   "source": [
    "plt.hist(keggel_spotify['year'][keggel_spotify['year']>1940], bins=50);"
   ]
  },
  {
   "cell_type": "code",
   "execution_count": 38,
   "metadata": {},
   "outputs": [
    {
     "data": {
      "text/plain": [
       "(array([749., 104.,  60.,  41.,  26.,  10.,   6.,   1.,   2.,   1.]),\n",
       " array([ 0. ,  8.3, 16.6, 24.9, 33.2, 41.5, 49.8, 58.1, 66.4, 74.7, 83. ]),\n",
       " <BarContainer object of 10 artists>)"
      ]
     },
     "execution_count": 38,
     "metadata": {},
     "output_type": "execute_result"
    },
    {
     "data": {
      "image/png": "[encoded data removed]",
      "text/plain": [
       "<Figure size 432x288 with 1 Axes>"
      ]
     },
     "metadata": {
      "needs_background": "light"
     },
     "output_type": "display_data"
    }
   ],
   "source": [
    "plt.hist(sample_keggel['popularity'])"
   ]
  },
  {
   "cell_type": "code",
   "execution_count": 34,
   "metadata": {},
   "outputs": [],
   "source": [
    "sample_keggel.head()\n",
    "sample_keggel.to_csv('keggel_sample.csv', index=None)"
   ]
  },
  {
   "cell_type": "markdown",
   "metadata": {},
   "source": [
    "## Build training data with charts and keggel songs"
   ]
  },
  {
   "cell_type": "markdown",
   "metadata": {},
   "source": [
    "Older songs seem to have no popularity measure, so exclude them"
   ]
  },
  {
   "cell_type": "code",
   "execution_count": 39,
   "metadata": {},
   "outputs": [],
   "source": [
    "data_no_duplicates.drop_duplicates(subset=['track_id'], keep=False, inplace=True)\n",
    "metadata = ['artist', 'album', 'track_name', 'track_id', 'country', 'continent'] # features that are actually not required \n",
    "data_no_duplicates = data_no_duplicates.drop(metadata, axis = 1)"
   ]
  },
  {
   "cell_type": "code",
   "execution_count": 40,
   "metadata": {},
   "outputs": [
    {
     "name": "stdout",
     "output_type": "stream",
     "text": [
      "['popularity', 'duration_ms', 'speechiness', 'energy', 'tempo', 'time_signature', 'loudness', 'key', 'liveness', 'instrumentalness', 'valence', 'mode', 'danceability']\n"
     ]
    }
   ],
   "source": [
    "# get shared features\n",
    "sample_keggel_cols = set(sample_keggel.columns)\n",
    "data_no_duplicates_cols = set(data_no_duplicates.columns)\n",
    "intersection =  list(data_no_duplicates_cols.intersection(sample_keggel_cols))\n",
    "print(intersection)"
   ]
  },
  {
   "cell_type": "code",
   "execution_count": 41,
   "metadata": {},
   "outputs": [],
   "source": [
    "# separate features and labels\n",
    "training_keggel = sample_keggel[intersection]\n",
    "training_data = data_no_duplicates[intersection]\n",
    "regression_data = training_data.append(training_keggel)\n",
    "y = regression_data['popularity'].reset_index(drop=True)\n",
    "regression_data = regression_data.drop('popularity', axis=1).reset_index(drop=True)"
   ]
  },
  {
   "cell_type": "code",
   "execution_count": 42,
   "metadata": {},
   "outputs": [],
   "source": [
    "# exclude categotial varibles from scaling\n",
    "cat_features = ['key', 'mode', 'time_signature']\n",
    "categorial_columns = regression_data[cat_features].astype(str).reset_index(drop=True)\n",
    "regression_data = regression_data.drop(cat_features, axis=1)"
   ]
  },
  {
   "cell_type": "code",
   "execution_count": 43,
   "metadata": {},
   "outputs": [],
   "source": [
    "# scale data\n",
    "scaled_regression_data = StandardScaler().fit_transform(regression_data)\n",
    "scaled_regression_data = pd.DataFrame(scaled_regression_data)\n",
    "scaled_regression_data.columns = regression_data.columns\n",
    "# merge with categorial data\n",
    "scaled_regression_data[cat_features] = categorial_columns"
   ]
  },
  {
   "cell_type": "code",
   "execution_count": 44,
   "metadata": {},
   "outputs": [],
   "source": [
    "# split data into test and trainings set\n",
    "X_train, X_test, y_train, y_test = train_test_split(scaled_regression_data, y, test_size = 0.33, random_state = 42)"
   ]
  },
  {
   "cell_type": "code",
   "execution_count": 45,
   "metadata": {},
   "outputs": [
    {
     "name": "stdout",
     "output_type": "stream",
     "text": [
      "prediction: [33.71548992256605, 43.85831987366945, 9.09869051005878, 40.754374640457854, 55.27349044758593]\n",
      "y: 631     65.0\n",
      "1637     0.0\n",
      "1926     1.0\n",
      "1630     0.0\n",
      "363     67.0\n",
      "Name: popularity, dtype: float64\n",
      "train error: 24.717540281772905\n",
      "mean cross validation error: 24.930439452598996\n",
      "test error: 26.7950883415745\n"
     ]
    },
    {
     "data": {
      "image/png": "[encoded data removed]",
      "text/plain": [
       "<Figure size 936x504 with 4 Axes>"
      ]
     },
     "metadata": {
      "needs_background": "light"
     },
     "output_type": "display_data"
    }
   ],
   "source": [
    "# perform linear regerssion and evaluate\n",
    "reg = LinearRegression().fit(X_train, y_train)\n",
    "print_model_performance(reg, X_train, X_test, y_train, y_test)\n",
    "plot_residuals(X_train, y_train, reg)"
   ]
  },
  {
   "cell_type": "code",
   "execution_count": 46,
   "metadata": {},
   "outputs": [
    {
     "name": "stdout",
     "output_type": "stream",
     "text": [
      "prediction: [33.547135040896165, 57.22849381245223, 7.490138295725243, 44.35843677480331, 59.04791799614602]\n",
      "y: 631     65.0\n",
      "1637     0.0\n",
      "1926     1.0\n",
      "1630     0.0\n",
      "363     67.0\n",
      "Name: popularity, dtype: float64\n",
      "train error: 25.355880195622007\n",
      "mean cross validation error: 24.915538547509847\n",
      "test error: 27.346785290849095\n"
     ]
    },
    {
     "data": {
      "image/png": "[encoded data removed]",
      "text/plain": [
       "<Figure size 936x504 with 4 Axes>"
      ]
     },
     "metadata": {
      "needs_background": "light"
     },
     "output_type": "display_data"
    }
   ],
   "source": [
    "regressor = SVR(kernel='rbf')\n",
    "regressor.fit(X_train, y_train)\n",
    "print_model_performance(regressor, X_train, X_test, y_train, y_test)\n",
    "plot_residuals(X_train, y_train, regressor)"
   ]
  },
  {
   "cell_type": "code",
   "execution_count": 47,
   "metadata": {},
   "outputs": [],
   "source": [
    "training_keggel.shape\n",
    "train_keggel = scaled_regression_data.iloc[-1000:]\n",
    "label_keggel = y.iloc[-1000:]"
   ]
  },
  {
   "cell_type": "code",
   "execution_count": 48,
   "metadata": {},
   "outputs": [],
   "source": [
    "# split data into test and trainings set\n",
    "X_train, X_test, y_train, y_test = train_test_split(train_keggel, label_keggel, test_size = 0.2, random_state = 42)"
   ]
  },
  {
   "cell_type": "code",
   "execution_count": 49,
   "metadata": {},
   "outputs": [
    {
     "name": "stdout",
     "output_type": "stream",
     "text": [
      "prediction: [3.859524371206124, 7.033386479362103, 9.896877932334974, 3.441219908212152, 3.5476900921481302]\n",
      "y: 1089     1.0\n",
      "1595     1.0\n",
      "1755     0.0\n",
      "1617    24.0\n",
      "1896     0.0\n",
      "Name: popularity, dtype: float64\n",
      "train error: 10.60506767255894\n",
      "mean cross validation error: 10.720615029732516\n",
      "test error: 12.83754320793467\n",
      "1089     1.0\n",
      "1595     1.0\n",
      "1755     0.0\n",
      "1617    24.0\n",
      "1896     0.0\n",
      "        ... \n",
      "1166    31.0\n",
      "1330     5.0\n",
      "1920    54.0\n",
      "1495     0.0\n",
      "1162     1.0\n",
      "Name: popularity, Length: 800, dtype: float64\n"
     ]
    },
    {
     "data": {
      "image/png": "[encoded data removed]",
      "text/plain": [
       "<Figure size 936x504 with 4 Axes>"
      ]
     },
     "metadata": {
      "needs_background": "light"
     },
     "output_type": "display_data"
    }
   ],
   "source": [
    "# perform linear regerssion and evaluate\n",
    "reg = LinearRegression().fit(X_train, y_train)\n",
    "print_model_performance(reg, X_train, X_test, y_train, y_test)\n",
    "plot_residuals(X_train, y_train, reg)\n",
    "print(y_train)"
   ]
  },
  {
   "cell_type": "markdown",
   "metadata": {},
   "source": [
    "## logistics regression"
   ]
  },
  {
   "cell_type": "code",
   "execution_count": 50,
   "metadata": {},
   "outputs": [
    {
     "name": "stdout",
     "output_type": "stream",
     "text": [
      "2050     0.0\n",
      "2051     0.0\n",
      "2052     1.0\n",
      "2053    12.0\n",
      "2054     0.0\n",
      "2055     2.0\n",
      "2056    15.0\n",
      "2057    38.0\n",
      "2058    15.0\n",
      "2059     1.0\n",
      "Name: popularity, dtype: float64 [0. 0. 0. 0. 0. 0. 0. 0. 0. 0.]\n"
     ]
    }
   ],
   "source": [
    "y_logistic = np.zeros(len(y))\n",
    "y_logistic[y > 50] = 1\n",
    "print(y.iloc[-10:], y_logistic[-10:])"
   ]
  },
  {
   "cell_type": "code",
   "execution_count": 51,
   "metadata": {},
   "outputs": [],
   "source": [
    "# split data into test and trainings set\n",
    "X_train, X_test, y_train, y_test = train_test_split(scaled_regression_data, y_logistic, test_size = 0.33, random_state = 42)"
   ]
  },
  {
   "cell_type": "code",
   "execution_count": 94,
   "metadata": {},
   "outputs": [
    {
     "name": "stdout",
     "output_type": "stream",
     "text": [
      "prediction: [0.0, 1.0, 0.0, 1.0, 1.0]\n",
      "y: [1. 0. 0. 0. 1.]\n",
      "train error: 0.4406845794337767\n",
      "mean cross validation error: 0.7956521739130434\n",
      "test error: 7.085333922581853\n"
     ]
    }
   ],
   "source": [
    "from sklearn.linear_model import LogisticRegression\n",
    "\n",
    "clf = LogisticRegression().fit(X_train, y_train)\n",
    "predictions = clf.predict(X_train)\n",
    "print(f'prediction: {list(predictions[:5])}')\n",
    "print(f'y: {y_train[:5]}')\n",
    "rsme_normal = np.sqrt(mean_squared_error(y_train, predictions))\n",
    "print(f'train error: {rsme_normal}')\n",
    "\n",
    "# cross validation\n",
    "model = LogisticRegression()\n",
    "scorer = make_scorer(get_root_mean_squared_error)\n",
    "cv = KFold(n_splits=5, shuffle=True)\n",
    "scores = cross_val_score(model, X_train, y_train, cv=cv, scoring='accuracy')\n",
    "print(f'mean cross validation error: {scores.mean()}')\n",
    "\n",
    "# get test error\n",
    "predictions_training = reg.predict(X_test)\n",
    "print(f'test error: {np.sqrt(mean_squared_error(y_test, predictions_training))}')"
   ]
  },
  {
   "cell_type": "code",
   "execution_count": 97,
   "metadata": {},
   "outputs": [
    {
     "data": {
      "text/plain": [
       "0.7867647058823529"
      ]
     },
     "execution_count": 97,
     "metadata": {},
     "output_type": "execute_result"
    }
   ],
   "source": [
    "clf.score(X_test, y_test)"
   ]
  },
  {
   "cell_type": "code",
   "execution_count": 54,
   "metadata": {},
   "outputs": [
    {
     "data": {
      "text/plain": [
       "array([[-0.41735592, -0.11426666, -0.24552508,  0.21983541,  1.267654  ,\n",
       "        -0.12046197, -1.15278782, -0.48851338,  1.12500586, -0.0148033 ,\n",
       "        -0.52213153,  0.29980299]])"
      ]
     },
     "execution_count": 54,
     "metadata": {},
     "output_type": "execute_result"
    }
   ],
   "source": [
    "clf.coef_"
   ]
  },
  {
   "cell_type": "markdown",
   "metadata": {},
   "source": [
    "# SVM using all features"
   ]
  },
  {
   "cell_type": "code",
   "execution_count": 95,
   "metadata": {
    "scrolled": false
   },
   "outputs": [
    {
     "name": "stdout",
     "output_type": "stream",
     "text": [
      "Fitting 5 folds for each of 24 candidates, totalling 120 fits\n",
      "[CV 1/5] END ............C=0.001, kernel=linear;, score=0.714 total time=   0.0s\n",
      "[CV 2/5] END ............C=0.001, kernel=linear;, score=0.779 total time=   0.0s\n",
      "[CV 3/5] END ............C=0.001, kernel=linear;, score=0.739 total time=   0.0s\n",
      "[CV 4/5] END ............C=0.001, kernel=linear;, score=0.743 total time=   0.0s\n",
      "[CV 5/5] END ............C=0.001, kernel=linear;, score=0.674 total time=   0.0s\n",
      "[CV 1/5] END ...............C=0.001, kernel=rbf;, score=0.471 total time=   0.1s\n",
      "[CV 2/5] END ...............C=0.001, kernel=rbf;, score=0.464 total time=   0.1s\n",
      "[CV 3/5] END ...............C=0.001, kernel=rbf;, score=0.478 total time=   0.1s\n",
      "[CV 4/5] END ...............C=0.001, kernel=rbf;, score=0.475 total time=   0.1s\n",
      "[CV 5/5] END ...............C=0.001, kernel=rbf;, score=0.482 total time=   0.1s\n",
      "[CV 1/5] END ...........C=0.001, kernel=sigmoid;, score=0.471 total time=   0.1s\n",
      "[CV 2/5] END ...........C=0.001, kernel=sigmoid;, score=0.464 total time=   0.1s\n",
      "[CV 3/5] END ...........C=0.001, kernel=sigmoid;, score=0.478 total time=   0.1s\n",
      "[CV 4/5] END ...........C=0.001, kernel=sigmoid;, score=0.475 total time=   0.1s\n",
      "[CV 5/5] END ...........C=0.001, kernel=sigmoid;, score=0.482 total time=   0.1s\n",
      "[CV 1/5] END .............C=0.01, kernel=linear;, score=0.775 total time=   0.0s\n",
      "[CV 2/5] END .............C=0.01, kernel=linear;, score=0.841 total time=   0.0s\n",
      "[CV 3/5] END .............C=0.01, kernel=linear;, score=0.801 total time=   0.0s\n",
      "[CV 4/5] END .............C=0.01, kernel=linear;, score=0.757 total time=   0.0s\n",
      "[CV 5/5] END .............C=0.01, kernel=linear;, score=0.714 total time=   0.0s\n",
      "[CV 1/5] END ................C=0.01, kernel=rbf;, score=0.533 total time=   0.1s\n",
      "[CV 2/5] END ................C=0.01, kernel=rbf;, score=0.464 total time=   0.1s\n",
      "[CV 3/5] END ................C=0.01, kernel=rbf;, score=0.547 total time=   0.1s\n",
      "[CV 4/5] END ................C=0.01, kernel=rbf;, score=0.554 total time=   0.1s\n",
      "[CV 5/5] END ................C=0.01, kernel=rbf;, score=0.562 total time=   0.1s\n",
      "[CV 1/5] END ............C=0.01, kernel=sigmoid;, score=0.478 total time=   0.1s\n",
      "[CV 2/5] END ............C=0.01, kernel=sigmoid;, score=0.464 total time=   0.1s\n",
      "[CV 3/5] END ............C=0.01, kernel=sigmoid;, score=0.478 total time=   0.1s\n",
      "[CV 4/5] END ............C=0.01, kernel=sigmoid;, score=0.478 total time=   0.1s\n",
      "[CV 5/5] END ............C=0.01, kernel=sigmoid;, score=0.493 total time=   0.1s\n",
      "[CV 1/5] END ..............C=0.1, kernel=linear;, score=0.793 total time=   0.0s\n",
      "[CV 2/5] END ..............C=0.1, kernel=linear;, score=0.855 total time=   0.0s\n",
      "[CV 3/5] END ..............C=0.1, kernel=linear;, score=0.819 total time=   0.0s\n",
      "[CV 4/5] END ..............C=0.1, kernel=linear;, score=0.775 total time=   0.0s\n",
      "[CV 5/5] END ..............C=0.1, kernel=linear;, score=0.754 total time=   0.0s\n",
      "[CV 1/5] END .................C=0.1, kernel=rbf;, score=0.743 total time=   0.1s\n",
      "[CV 2/5] END .................C=0.1, kernel=rbf;, score=0.826 total time=   0.1s\n",
      "[CV 3/5] END .................C=0.1, kernel=rbf;, score=0.790 total time=   0.1s\n",
      "[CV 4/5] END .................C=0.1, kernel=rbf;, score=0.746 total time=   0.1s\n",
      "[CV 5/5] END .................C=0.1, kernel=rbf;, score=0.710 total time=   0.1s\n",
      "[CV 1/5] END .............C=0.1, kernel=sigmoid;, score=0.721 total time=   0.1s\n",
      "[CV 2/5] END .............C=0.1, kernel=sigmoid;, score=0.768 total time=   0.1s\n",
      "[CV 3/5] END .............C=0.1, kernel=sigmoid;, score=0.761 total time=   0.1s\n",
      "[CV 4/5] END .............C=0.1, kernel=sigmoid;, score=0.696 total time=   0.1s\n",
      "[CV 5/5] END .............C=0.1, kernel=sigmoid;, score=0.656 total time=   0.1s\n",
      "[CV 1/5] END ................C=1, kernel=linear;, score=0.779 total time=   0.0s\n",
      "[CV 2/5] END ................C=1, kernel=linear;, score=0.855 total time=   0.0s\n",
      "[CV 3/5] END ................C=1, kernel=linear;, score=0.819 total time=   0.0s\n",
      "[CV 4/5] END ................C=1, kernel=linear;, score=0.786 total time=   0.0s\n",
      "[CV 5/5] END ................C=1, kernel=linear;, score=0.750 total time=   0.0s\n",
      "[CV 1/5] END ...................C=1, kernel=rbf;, score=0.768 total time=   0.0s\n",
      "[CV 2/5] END ...................C=1, kernel=rbf;, score=0.844 total time=   0.0s\n",
      "[CV 3/5] END ...................C=1, kernel=rbf;, score=0.812 total time=   0.1s\n",
      "[CV 4/5] END ...................C=1, kernel=rbf;, score=0.779 total time=   0.1s\n",
      "[CV 5/5] END ...................C=1, kernel=rbf;, score=0.746 total time=   0.1s\n",
      "[CV 1/5] END ...............C=1, kernel=sigmoid;, score=0.598 total time=   0.0s\n",
      "[CV 2/5] END ...............C=1, kernel=sigmoid;, score=0.620 total time=   0.0s\n",
      "[CV 3/5] END ...............C=1, kernel=sigmoid;, score=0.565 total time=   0.0s\n",
      "[CV 4/5] END ...............C=1, kernel=sigmoid;, score=0.627 total time=   0.0s\n",
      "[CV 5/5] END ...............C=1, kernel=sigmoid;, score=0.587 total time=   0.0s\n",
      "[CV 1/5] END ...............C=10, kernel=linear;, score=0.779 total time=   0.2s\n",
      "[CV 2/5] END ...............C=10, kernel=linear;, score=0.859 total time=   0.2s\n",
      "[CV 3/5] END ...............C=10, kernel=linear;, score=0.819 total time=   0.2s\n",
      "[CV 4/5] END ...............C=10, kernel=linear;, score=0.790 total time=   0.1s\n",
      "[CV 5/5] END ...............C=10, kernel=linear;, score=0.746 total time=   0.2s\n",
      "[CV 1/5] END ..................C=10, kernel=rbf;, score=0.793 total time=   0.1s\n",
      "[CV 2/5] END ..................C=10, kernel=rbf;, score=0.844 total time=   0.1s\n",
      "[CV 3/5] END ..................C=10, kernel=rbf;, score=0.815 total time=   0.1s\n",
      "[CV 4/5] END ..................C=10, kernel=rbf;, score=0.808 total time=   0.1s\n",
      "[CV 5/5] END ..................C=10, kernel=rbf;, score=0.779 total time=   0.0s\n",
      "[CV 1/5] END ..............C=10, kernel=sigmoid;, score=0.576 total time=   0.0s\n",
      "[CV 2/5] END ..............C=10, kernel=sigmoid;, score=0.601 total time=   0.0s\n",
      "[CV 3/5] END ..............C=10, kernel=sigmoid;, score=0.562 total time=   0.0s\n",
      "[CV 4/5] END ..............C=10, kernel=sigmoid;, score=0.623 total time=   0.0s\n",
      "[CV 5/5] END ..............C=10, kernel=sigmoid;, score=0.580 total time=   0.0s\n",
      "[CV 1/5] END ..............C=100, kernel=linear;, score=0.779 total time=   1.2s\n",
      "[CV 2/5] END ..............C=100, kernel=linear;, score=0.855 total time=   1.1s\n",
      "[CV 3/5] END ..............C=100, kernel=linear;, score=0.822 total time=   0.9s\n",
      "[CV 4/5] END ..............C=100, kernel=linear;, score=0.790 total time=   1.1s\n",
      "[CV 5/5] END ..............C=100, kernel=linear;, score=0.746 total time=   1.1s\n",
      "[CV 1/5] END .................C=100, kernel=rbf;, score=0.812 total time=   0.1s\n",
      "[CV 2/5] END .................C=100, kernel=rbf;, score=0.801 total time=   0.1s\n",
      "[CV 3/5] END .................C=100, kernel=rbf;, score=0.786 total time=   0.1s\n",
      "[CV 4/5] END .................C=100, kernel=rbf;, score=0.775 total time=   0.1s\n",
      "[CV 5/5] END .................C=100, kernel=rbf;, score=0.746 total time=   0.1s\n",
      "[CV 1/5] END .............C=100, kernel=sigmoid;, score=0.576 total time=   0.0s\n",
      "[CV 2/5] END .............C=100, kernel=sigmoid;, score=0.605 total time=   0.0s\n",
      "[CV 3/5] END .............C=100, kernel=sigmoid;, score=0.562 total time=   0.0s\n",
      "[CV 4/5] END .............C=100, kernel=sigmoid;, score=0.623 total time=   0.0s\n",
      "[CV 5/5] END .............C=100, kernel=sigmoid;, score=0.580 total time=   0.0s\n",
      "[CV 1/5] END .............C=1000, kernel=linear;, score=0.779 total time=   8.5s\n",
      "[CV 2/5] END .............C=1000, kernel=linear;, score=0.862 total time=  11.2s\n",
      "[CV 3/5] END .............C=1000, kernel=linear;, score=0.819 total time=   8.6s\n",
      "[CV 4/5] END .............C=1000, kernel=linear;, score=0.790 total time=   9.0s\n",
      "[CV 5/5] END .............C=1000, kernel=linear;, score=0.746 total time=  10.4s\n",
      "[CV 1/5] END ................C=1000, kernel=rbf;, score=0.786 total time=   0.4s\n",
      "[CV 2/5] END ................C=1000, kernel=rbf;, score=0.757 total time=   0.3s\n",
      "[CV 3/5] END ................C=1000, kernel=rbf;, score=0.783 total time=   0.3s\n",
      "[CV 4/5] END ................C=1000, kernel=rbf;, score=0.757 total time=   0.3s\n",
      "[CV 5/5] END ................C=1000, kernel=rbf;, score=0.707 total time=   0.3s\n",
      "[CV 1/5] END ............C=1000, kernel=sigmoid;, score=0.576 total time=   0.0s\n",
      "[CV 2/5] END ............C=1000, kernel=sigmoid;, score=0.605 total time=   0.0s\n",
      "[CV 3/5] END ............C=1000, kernel=sigmoid;, score=0.562 total time=   0.0s\n",
      "[CV 4/5] END ............C=1000, kernel=sigmoid;, score=0.623 total time=   0.0s\n",
      "[CV 5/5] END ............C=1000, kernel=sigmoid;, score=0.580 total time=   0.0s\n"
     ]
    },
    {
     "name": "stdout",
     "output_type": "stream",
     "text": [
      "[CV 1/5] END ............C=10000, kernel=linear;, score=0.779 total time= 1.4min\n",
      "[CV 2/5] END ............C=10000, kernel=linear;, score=0.851 total time= 1.5min\n",
      "[CV 3/5] END ............C=10000, kernel=linear;, score=0.819 total time= 1.2min\n",
      "[CV 4/5] END ............C=10000, kernel=linear;, score=0.790 total time= 1.3min\n",
      "[CV 5/5] END ............C=10000, kernel=linear;, score=0.754 total time=  58.7s\n",
      "[CV 1/5] END ...............C=10000, kernel=rbf;, score=0.746 total time=   2.2s\n",
      "[CV 2/5] END ...............C=10000, kernel=rbf;, score=0.732 total time=   1.9s\n",
      "[CV 3/5] END ...............C=10000, kernel=rbf;, score=0.754 total time=   1.5s\n",
      "[CV 4/5] END ...............C=10000, kernel=rbf;, score=0.757 total time=   2.3s\n",
      "[CV 5/5] END ...............C=10000, kernel=rbf;, score=0.681 total time=   1.8s\n",
      "[CV 1/5] END ...........C=10000, kernel=sigmoid;, score=0.576 total time=   0.0s\n",
      "[CV 2/5] END ...........C=10000, kernel=sigmoid;, score=0.605 total time=   0.0s\n",
      "[CV 3/5] END ...........C=10000, kernel=sigmoid;, score=0.562 total time=   0.0s\n",
      "[CV 4/5] END ...........C=10000, kernel=sigmoid;, score=0.623 total time=   0.0s\n",
      "[CV 5/5] END ...........C=10000, kernel=sigmoid;, score=0.580 total time=   0.0s\n"
     ]
    },
    {
     "data": {
      "text/plain": [
       "GridSearchCV(cv=KFold(n_splits=5, random_state=420, shuffle=True),\n",
       "             estimator=SVC(),\n",
       "             param_grid={'C': [0.001, 0.01, 0.1, 1, 10, 100, 1000, 10000],\n",
       "                         'kernel': ['linear', 'rbf', 'sigmoid']},\n",
       "             scoring='accuracy', verbose=5)"
      ]
     },
     "execution_count": 95,
     "metadata": {},
     "output_type": "execute_result"
    }
   ],
   "source": [
    "# Setup\n",
    "svm = SVC()\n",
    "C = [10**i for i in list(range(-3,5))]      # 0.001, 0.1,..., 1000, 10000\n",
    "svm_params = {'C':C, 'kernel':['linear', 'rbf', 'sigmoid']}\n",
    "\n",
    "outer_cv = KFold(n_splits=5, shuffle=True, random_state=420)\n",
    "clf = GridSearchCV(estimator=svm, param_grid=svm_params, verbose = 5, cv = outer_cv, scoring='accuracy')\n",
    "clf.fit(X=X_train, y=y_train)"
   ]
  },
  {
   "cell_type": "code",
   "execution_count": 98,
   "metadata": {},
   "outputs": [
    {
     "data": {
      "text/plain": [
       "{'C': 10, 'kernel': 'rbf'}"
      ]
     },
     "execution_count": 98,
     "metadata": {},
     "output_type": "execute_result"
    }
   ],
   "source": [
    "clf.best_params_"
   ]
  },
  {
   "cell_type": "code",
   "execution_count": 99,
   "metadata": {},
   "outputs": [
    {
     "data": {
      "text/plain": [
       "0.8079710144927537"
      ]
     },
     "execution_count": 99,
     "metadata": {},
     "output_type": "execute_result"
    }
   ],
   "source": [
    "clf.best_score_"
   ]
  },
  {
   "cell_type": "markdown",
   "metadata": {},
   "source": [
    "### log regression using only 3 params wich differ most"
   ]
  },
  {
   "cell_type": "code",
   "execution_count": 100,
   "metadata": {},
   "outputs": [
    {
     "data": {
      "text/plain": [
       "(2060, 12)"
      ]
     },
     "execution_count": 100,
     "metadata": {},
     "output_type": "execute_result"
    }
   ],
   "source": [
    "scaled_regression_data_three_params = scaled_regression_data[['danceability', 'energy', 'valence', 'loudness']]\n",
    "scaled_regression_data.shape"
   ]
  },
  {
   "cell_type": "code",
   "execution_count": 101,
   "metadata": {},
   "outputs": [],
   "source": [
    "# split data into test and trainings set\n",
    "X_train, X_test, y_train, y_test = train_test_split(scaled_regression_data_three_params, y_logistic, test_size = 0.33, random_state = 42)"
   ]
  },
  {
   "cell_type": "code",
   "execution_count": 102,
   "metadata": {},
   "outputs": [
    {
     "name": "stdout",
     "output_type": "stream",
     "text": [
      "trainings score: 0.768840579710145\n",
      "trainings score: 0.75\n"
     ]
    },
    {
     "data": {
      "text/plain": [
       "array([[ 1.21918042, -0.60308454, -0.31253633,  1.90426551]])"
      ]
     },
     "execution_count": 102,
     "metadata": {},
     "output_type": "execute_result"
    }
   ],
   "source": [
    "from sklearn.linear_model import LogisticRegression\n",
    "\n",
    "clf = LogisticRegression().fit(X_train, y_train)\n",
    "predictions = clf.predict(X_train)\n",
    "print(f'trainings score: {clf.score(X_train, y_train)}')\n",
    "print(f'trainings score: {clf.score(X_test, y_test)}')\n",
    "clf.coef_"
   ]
  },
  {
   "cell_type": "markdown",
   "metadata": {},
   "source": [
    "# SVM with 3 params"
   ]
  },
  {
   "cell_type": "code",
   "execution_count": 103,
   "metadata": {
    "scrolled": false
   },
   "outputs": [
    {
     "name": "stdout",
     "output_type": "stream",
     "text": [
      "Fitting 5 folds for each of 24 candidates, totalling 120 fits\n",
      "[CV 1/5] END ............C=0.001, kernel=linear;, score=0.685 total time=   0.0s\n",
      "[CV 2/5] END ............C=0.001, kernel=linear;, score=0.750 total time=   0.0s\n",
      "[CV 3/5] END ............C=0.001, kernel=linear;, score=0.699 total time=   0.0s\n",
      "[CV 4/5] END ............C=0.001, kernel=linear;, score=0.663 total time=   0.0s\n",
      "[CV 5/5] END ............C=0.001, kernel=linear;, score=0.659 total time=   0.0s\n",
      "[CV 1/5] END ...............C=0.001, kernel=rbf;, score=0.471 total time=   0.1s\n",
      "[CV 2/5] END ...............C=0.001, kernel=rbf;, score=0.464 total time=   0.1s\n",
      "[CV 3/5] END ...............C=0.001, kernel=rbf;, score=0.478 total time=   0.1s\n",
      "[CV 4/5] END ...............C=0.001, kernel=rbf;, score=0.475 total time=   0.1s\n",
      "[CV 5/5] END ...............C=0.001, kernel=rbf;, score=0.482 total time=   0.1s\n",
      "[CV 1/5] END ...........C=0.001, kernel=sigmoid;, score=0.471 total time=   0.0s\n",
      "[CV 2/5] END ...........C=0.001, kernel=sigmoid;, score=0.464 total time=   0.0s\n",
      "[CV 3/5] END ...........C=0.001, kernel=sigmoid;, score=0.478 total time=   0.0s\n",
      "[CV 4/5] END ...........C=0.001, kernel=sigmoid;, score=0.475 total time=   0.0s\n",
      "[CV 5/5] END ...........C=0.001, kernel=sigmoid;, score=0.482 total time=   0.0s\n",
      "[CV 1/5] END .............C=0.01, kernel=linear;, score=0.728 total time=   0.0s\n",
      "[CV 2/5] END .............C=0.01, kernel=linear;, score=0.801 total time=   0.0s\n",
      "[CV 3/5] END .............C=0.01, kernel=linear;, score=0.757 total time=   0.0s\n",
      "[CV 4/5] END .............C=0.01, kernel=linear;, score=0.739 total time=   0.0s\n",
      "[CV 5/5] END .............C=0.01, kernel=linear;, score=0.750 total time=   0.0s\n",
      "[CV 1/5] END ................C=0.01, kernel=rbf;, score=0.714 total time=   0.1s\n",
      "[CV 2/5] END ................C=0.01, kernel=rbf;, score=0.790 total time=   0.1s\n",
      "[CV 3/5] END ................C=0.01, kernel=rbf;, score=0.739 total time=   0.1s\n",
      "[CV 4/5] END ................C=0.01, kernel=rbf;, score=0.732 total time=   0.1s\n",
      "[CV 5/5] END ................C=0.01, kernel=rbf;, score=0.699 total time=   0.1s\n",
      "[CV 1/5] END ............C=0.01, kernel=sigmoid;, score=0.717 total time=   0.0s\n",
      "[CV 2/5] END ............C=0.01, kernel=sigmoid;, score=0.793 total time=   0.0s\n",
      "[CV 3/5] END ............C=0.01, kernel=sigmoid;, score=0.743 total time=   0.0s\n",
      "[CV 4/5] END ............C=0.01, kernel=sigmoid;, score=0.703 total time=   0.0s\n",
      "[CV 5/5] END ............C=0.01, kernel=sigmoid;, score=0.710 total time=   0.0s\n",
      "[CV 1/5] END ..............C=0.1, kernel=linear;, score=0.746 total time=   0.0s\n",
      "[CV 2/5] END ..............C=0.1, kernel=linear;, score=0.801 total time=   0.0s\n",
      "[CV 3/5] END ..............C=0.1, kernel=linear;, score=0.772 total time=   0.0s\n",
      "[CV 4/5] END ..............C=0.1, kernel=linear;, score=0.761 total time=   0.0s\n",
      "[CV 5/5] END ..............C=0.1, kernel=linear;, score=0.732 total time=   0.0s\n",
      "[CV 1/5] END .................C=0.1, kernel=rbf;, score=0.732 total time=   0.0s\n",
      "[CV 2/5] END .................C=0.1, kernel=rbf;, score=0.804 total time=   0.0s\n",
      "[CV 3/5] END .................C=0.1, kernel=rbf;, score=0.775 total time=   0.0s\n",
      "[CV 4/5] END .................C=0.1, kernel=rbf;, score=0.754 total time=   0.0s\n",
      "[CV 5/5] END .................C=0.1, kernel=rbf;, score=0.761 total time=   0.0s\n",
      "[CV 1/5] END .............C=0.1, kernel=sigmoid;, score=0.717 total time=   0.0s\n",
      "[CV 2/5] END .............C=0.1, kernel=sigmoid;, score=0.703 total time=   0.0s\n",
      "[CV 3/5] END .............C=0.1, kernel=sigmoid;, score=0.793 total time=   0.0s\n",
      "[CV 4/5] END .............C=0.1, kernel=sigmoid;, score=0.703 total time=   0.0s\n",
      "[CV 5/5] END .............C=0.1, kernel=sigmoid;, score=0.707 total time=   0.0s\n",
      "[CV 1/5] END ................C=1, kernel=linear;, score=0.746 total time=   0.0s\n",
      "[CV 2/5] END ................C=1, kernel=linear;, score=0.804 total time=   0.0s\n",
      "[CV 3/5] END ................C=1, kernel=linear;, score=0.786 total time=   0.0s\n",
      "[CV 4/5] END ................C=1, kernel=linear;, score=0.764 total time=   0.0s\n",
      "[CV 5/5] END ................C=1, kernel=linear;, score=0.739 total time=   0.0s\n",
      "[CV 1/5] END ...................C=1, kernel=rbf;, score=0.750 total time=   0.0s\n",
      "[CV 2/5] END ...................C=1, kernel=rbf;, score=0.808 total time=   0.0s\n",
      "[CV 3/5] END ...................C=1, kernel=rbf;, score=0.779 total time=   0.0s\n",
      "[CV 4/5] END ...................C=1, kernel=rbf;, score=0.775 total time=   0.0s\n",
      "[CV 5/5] END ...................C=1, kernel=rbf;, score=0.757 total time=   0.0s\n",
      "[CV 1/5] END ...............C=1, kernel=sigmoid;, score=0.620 total time=   0.0s\n",
      "[CV 2/5] END ...............C=1, kernel=sigmoid;, score=0.674 total time=   0.0s\n",
      "[CV 3/5] END ...............C=1, kernel=sigmoid;, score=0.721 total time=   0.0s\n",
      "[CV 4/5] END ...............C=1, kernel=sigmoid;, score=0.641 total time=   0.0s\n",
      "[CV 5/5] END ...............C=1, kernel=sigmoid;, score=0.641 total time=   0.0s\n",
      "[CV 1/5] END ...............C=10, kernel=linear;, score=0.746 total time=   0.1s\n",
      "[CV 2/5] END ...............C=10, kernel=linear;, score=0.801 total time=   0.1s\n",
      "[CV 3/5] END ...............C=10, kernel=linear;, score=0.790 total time=   0.0s\n",
      "[CV 4/5] END ...............C=10, kernel=linear;, score=0.764 total time=   0.0s\n",
      "[CV 5/5] END ...............C=10, kernel=linear;, score=0.739 total time=   0.0s\n",
      "[CV 1/5] END ..................C=10, kernel=rbf;, score=0.757 total time=   0.0s\n",
      "[CV 2/5] END ..................C=10, kernel=rbf;, score=0.786 total time=   0.0s\n",
      "[CV 3/5] END ..................C=10, kernel=rbf;, score=0.764 total time=   0.0s\n",
      "[CV 4/5] END ..................C=10, kernel=rbf;, score=0.786 total time=   0.0s\n",
      "[CV 5/5] END ..................C=10, kernel=rbf;, score=0.764 total time=   0.0s\n",
      "[CV 1/5] END ..............C=10, kernel=sigmoid;, score=0.620 total time=   0.0s\n",
      "[CV 2/5] END ..............C=10, kernel=sigmoid;, score=0.674 total time=   0.0s\n",
      "[CV 3/5] END ..............C=10, kernel=sigmoid;, score=0.714 total time=   0.0s\n",
      "[CV 4/5] END ..............C=10, kernel=sigmoid;, score=0.645 total time=   0.0s\n",
      "[CV 5/5] END ..............C=10, kernel=sigmoid;, score=0.641 total time=   0.0s\n",
      "[CV 1/5] END ..............C=100, kernel=linear;, score=0.746 total time=   0.1s\n",
      "[CV 2/5] END ..............C=100, kernel=linear;, score=0.801 total time=   0.2s\n",
      "[CV 3/5] END ..............C=100, kernel=linear;, score=0.786 total time=   0.2s\n",
      "[CV 4/5] END ..............C=100, kernel=linear;, score=0.764 total time=   0.2s\n",
      "[CV 5/5] END ..............C=100, kernel=linear;, score=0.739 total time=   0.2s\n",
      "[CV 1/5] END .................C=100, kernel=rbf;, score=0.750 total time=   0.1s\n",
      "[CV 2/5] END .................C=100, kernel=rbf;, score=0.804 total time=   0.1s\n",
      "[CV 3/5] END .................C=100, kernel=rbf;, score=0.761 total time=   0.1s\n",
      "[CV 4/5] END .................C=100, kernel=rbf;, score=0.783 total time=   0.1s\n",
      "[CV 5/5] END .................C=100, kernel=rbf;, score=0.728 total time=   0.1s\n",
      "[CV 1/5] END .............C=100, kernel=sigmoid;, score=0.620 total time=   0.0s\n",
      "[CV 2/5] END .............C=100, kernel=sigmoid;, score=0.674 total time=   0.0s\n",
      "[CV 3/5] END .............C=100, kernel=sigmoid;, score=0.717 total time=   0.0s\n",
      "[CV 4/5] END .............C=100, kernel=sigmoid;, score=0.641 total time=   0.0s\n",
      "[CV 5/5] END .............C=100, kernel=sigmoid;, score=0.641 total time=   0.0s\n",
      "[CV 1/5] END .............C=1000, kernel=linear;, score=0.746 total time=   0.9s\n",
      "[CV 2/5] END .............C=1000, kernel=linear;, score=0.801 total time=   1.4s\n",
      "[CV 3/5] END .............C=1000, kernel=linear;, score=0.786 total time=   1.0s\n",
      "[CV 4/5] END .............C=1000, kernel=linear;, score=0.764 total time=   1.2s\n",
      "[CV 5/5] END .............C=1000, kernel=linear;, score=0.739 total time=   1.4s\n",
      "[CV 1/5] END ................C=1000, kernel=rbf;, score=0.732 total time=   0.5s\n",
      "[CV 2/5] END ................C=1000, kernel=rbf;, score=0.801 total time=   0.6s\n",
      "[CV 3/5] END ................C=1000, kernel=rbf;, score=0.736 total time=   0.4s\n",
      "[CV 4/5] END ................C=1000, kernel=rbf;, score=0.750 total time=   0.6s\n",
      "[CV 5/5] END ................C=1000, kernel=rbf;, score=0.721 total time=   0.6s\n",
      "[CV 1/5] END ............C=1000, kernel=sigmoid;, score=0.620 total time=   0.0s\n",
      "[CV 2/5] END ............C=1000, kernel=sigmoid;, score=0.674 total time=   0.0s\n",
      "[CV 3/5] END ............C=1000, kernel=sigmoid;, score=0.634 total time=   0.0s\n",
      "[CV 4/5] END ............C=1000, kernel=sigmoid;, score=0.641 total time=   0.0s\n",
      "[CV 5/5] END ............C=1000, kernel=sigmoid;, score=0.641 total time=   0.0s\n"
     ]
    },
    {
     "name": "stdout",
     "output_type": "stream",
     "text": [
      "[CV 1/5] END ............C=10000, kernel=linear;, score=0.746 total time=   8.4s\n",
      "[CV 2/5] END ............C=10000, kernel=linear;, score=0.804 total time=   7.8s\n",
      "[CV 3/5] END ............C=10000, kernel=linear;, score=0.786 total time=   9.1s\n",
      "[CV 4/5] END ............C=10000, kernel=linear;, score=0.772 total time=   9.0s\n",
      "[CV 5/5] END ............C=10000, kernel=linear;, score=0.739 total time=  11.0s\n",
      "[CV 1/5] END ...............C=10000, kernel=rbf;, score=0.721 total time=   4.0s\n",
      "[CV 2/5] END ...............C=10000, kernel=rbf;, score=0.779 total time=   4.7s\n",
      "[CV 3/5] END ...............C=10000, kernel=rbf;, score=0.696 total time=   4.6s\n",
      "[CV 4/5] END ...............C=10000, kernel=rbf;, score=0.739 total time=   4.1s\n",
      "[CV 5/5] END ...............C=10000, kernel=rbf;, score=0.710 total time=   4.1s\n",
      "[CV 1/5] END ...........C=10000, kernel=sigmoid;, score=0.620 total time=   0.0s\n",
      "[CV 2/5] END ...........C=10000, kernel=sigmoid;, score=0.674 total time=   0.0s\n",
      "[CV 3/5] END ...........C=10000, kernel=sigmoid;, score=0.634 total time=   0.0s\n",
      "[CV 4/5] END ...........C=10000, kernel=sigmoid;, score=0.641 total time=   0.0s\n",
      "[CV 5/5] END ...........C=10000, kernel=sigmoid;, score=0.641 total time=   0.0s\n"
     ]
    },
    {
     "data": {
      "text/plain": [
       "GridSearchCV(cv=KFold(n_splits=5, random_state=420, shuffle=True),\n",
       "             estimator=SVC(),\n",
       "             param_grid={'C': [0.001, 0.01, 0.1, 1, 10, 100, 1000, 10000],\n",
       "                         'kernel': ['linear', 'rbf', 'sigmoid']},\n",
       "             scoring='accuracy', verbose=5)"
      ]
     },
     "execution_count": 103,
     "metadata": {},
     "output_type": "execute_result"
    }
   ],
   "source": [
    "# Setup\n",
    "svm = SVC()\n",
    "C = [10**i for i in list(range(-3,5))]      # 0.001, 0.1,..., 1000, 10000\n",
    "svm_params = {'C':C, 'kernel':['linear', 'rbf', 'sigmoid']}\n",
    "\n",
    "outer_cv = KFold(n_splits=5, shuffle=True, random_state=420)\n",
    "clf = GridSearchCV(estimator=svm, param_grid=svm_params, verbose = 5, cv = outer_cv, scoring='accuracy')\n",
    "clf.fit(X=X_train, y=y_train)"
   ]
  }
 ],
 "metadata": {
  "kernelspec": {
   "display_name": "Python 3",
   "language": "python",
   "name": "python3"
  },
  "language_info": {
   "codemirror_mode": {
    "name": "ipython",
    "version": 3
   },
   "file_extension": ".py",
   "mimetype": "text/x-python",
   "name": "python",
   "nbconvert_exporter": "python",
   "pygments_lexer": "ipython3",
   "version": "3.8.3"
  }
 },
 "nbformat": 4,
 "nbformat_minor": 5
}
