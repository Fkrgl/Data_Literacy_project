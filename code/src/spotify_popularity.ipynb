{
 "cells": [
  {
   "cell_type": "code",
   "execution_count": 1,
   "id": "f07db8e7",
   "metadata": {},
   "outputs": [],
   "source": [
    "import spotipy as sp"
   ]
  },
  {
   "cell_type": "code",
   "execution_count": 8,
   "id": "2ff652c1",
   "metadata": {},
   "outputs": [],
   "source": [
    "cid = \"3d6da035171d4ddb8f219fd66c3e9d28\"\n",
    "secret = \"8d6e7dde729348ef82f9abebe20e8ef1\"\n",
    "client_credentials_manager = sp.SpotifyClientCredentials(client_id=cid, client_secret=secret)\n",
    "spy = sp.Spotify(client_credentials_manager = client_credentials_manager)"
   ]
  },
  {
   "cell_type": "code",
   "execution_count": 9,
   "id": "601e7837",
   "metadata": {},
   "outputs": [],
   "source": [
    "playlist_link = \"https://open.spotify.com/playlist/37i9dQZEVXbLiRSasKsNU9\"\n",
    "playlist_URI = playlist_link.split(\"/\")[-1].split(\"?\")[0]\n",
    "track_uris = [x[\"track\"][\"uri\"] for x in spy.playlist_tracks(playlist_URI)[\"items\"]]"
   ]
  },
  {
   "cell_type": "code",
   "execution_count": 10,
   "id": "5fbe7dc3",
   "metadata": {},
   "outputs": [
    {
     "name": "stdout",
     "output_type": "stream",
     "text": [
      "spotify:track:4JfWJOuhXu0QVnev3jgC9S\n"
     ]
    }
   ],
   "source": [
    "print(track_uris[1])"
   ]
  },
  {
   "cell_type": "code",
   "execution_count": 30,
   "id": "fb982b99",
   "metadata": {
    "scrolled": false
   },
   "outputs": [
    {
     "name": "stdout",
     "output_type": "stream",
     "text": [
      "artist genres: ['egyptian alternative']\n"
     ]
    }
   ],
   "source": [
    "#track = spy.track('5hiQSNo6jQbQ2m2gBZs7bU')['artists']\n",
    "\n",
    "artist = spy.artist(spy.track('5hiQSNo6jQbQ2m2gBZs7bU')['artists'][0][\"external_urls\"][\"spotify\"])\n",
    "print(\"artist genres:\", artist[\"genres\"])"
   ]
  },
  {
   "cell_type": "code",
   "execution_count": 21,
   "id": "11dd395a",
   "metadata": {},
   "outputs": [
    {
     "name": "stdout",
     "output_type": "stream",
     "text": [
      "artist genres: ['modern rock', 'pop rap']\n"
     ]
    }
   ],
   "source": [
    "result = spy.search(\"AJR\")\n",
    "track = result['tracks']['items'][0]\n",
    "\n",
    "artist = spy.artist(track[\"artists\"][0][\"external_urls\"][\"spotify\"])\n",
    "print(\"artist genres:\", artist[\"genres\"])"
   ]
  },
  {
   "cell_type": "code",
   "execution_count": null,
   "id": "19f406ef",
   "metadata": {},
   "outputs": [],
   "source": []
  }
 ],
 "metadata": {
  "kernelspec": {
   "display_name": "Python 3 (ipykernel)",
   "language": "python",
   "name": "python3"
  },
  "language_info": {
   "codemirror_mode": {
    "name": "ipython",
    "version": 3
   },
   "file_extension": ".py",
   "mimetype": "text/x-python",
   "name": "python",
   "nbconvert_exporter": "python",
   "pygments_lexer": "ipython3",
   "version": "3.8.5"
  }
 },
 "nbformat": 4,
 "nbformat_minor": 5
}
